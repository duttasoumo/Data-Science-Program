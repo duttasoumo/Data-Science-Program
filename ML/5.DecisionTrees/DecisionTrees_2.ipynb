{
 "cells": [
  {
   "cell_type": "markdown",
   "metadata": {},
   "source": [
    "# Scikit-learn Implementation"
   ]
  },
  {
   "cell_type": "markdown",
   "metadata": {},
   "source": [
    "## Reading the dataset"
   ]
  },
  {
   "cell_type": "code",
   "execution_count": 1,
   "metadata": {
    "scrolled": true
   },
   "outputs": [
    {
     "name": "stdout",
     "output_type": "stream",
     "text": [
      "DataSet:\n",
      " [[1.4 0.2 0. ]\n",
      " [1.4 0.2 0. ]\n",
      " [1.3 0.2 0. ]\n",
      " [1.5 0.2 0. ]\n",
      " [1.4 0.2 0. ]\n",
      " [1.7 0.4 0. ]\n",
      " [1.4 0.3 0. ]\n",
      " [1.5 0.2 0. ]\n",
      " [1.4 0.2 0. ]\n",
      " [1.5 0.1 0. ]\n",
      " [1.5 0.2 0. ]\n",
      " [1.6 0.2 0. ]\n",
      " [1.4 0.1 0. ]\n",
      " [1.1 0.1 0. ]\n",
      " [1.2 0.2 0. ]\n",
      " [1.5 0.4 0. ]\n",
      " [1.3 0.4 0. ]\n",
      " [1.4 0.3 0. ]\n",
      " [1.7 0.3 0. ]\n",
      " [1.5 0.3 0. ]\n",
      " [1.7 0.2 0. ]\n",
      " [1.5 0.4 0. ]\n",
      " [1.  0.2 0. ]\n",
      " [1.7 0.5 0. ]\n",
      " [1.9 0.2 0. ]\n",
      " [1.6 0.2 0. ]\n",
      " [1.6 0.4 0. ]\n",
      " [1.5 0.2 0. ]\n",
      " [1.4 0.2 0. ]\n",
      " [1.6 0.2 0. ]\n",
      " [1.6 0.2 0. ]\n",
      " [1.5 0.4 0. ]\n",
      " [1.5 0.1 0. ]\n",
      " [1.4 0.2 0. ]\n",
      " [1.5 0.1 0. ]\n",
      " [1.2 0.2 0. ]\n",
      " [1.3 0.2 0. ]\n",
      " [1.5 0.1 0. ]\n",
      " [1.3 0.2 0. ]\n",
      " [1.5 0.2 0. ]\n",
      " [1.3 0.3 0. ]\n",
      " [1.3 0.3 0. ]\n",
      " [1.3 0.2 0. ]\n",
      " [1.6 0.6 0. ]\n",
      " [1.9 0.4 0. ]\n",
      " [1.4 0.3 0. ]\n",
      " [1.6 0.2 0. ]\n",
      " [1.4 0.2 0. ]\n",
      " [1.5 0.2 0. ]\n",
      " [1.4 0.2 0. ]\n",
      " [4.7 1.4 1. ]\n",
      " [4.5 1.5 1. ]\n",
      " [4.9 1.5 1. ]\n",
      " [4.  1.3 1. ]\n",
      " [4.6 1.5 1. ]\n",
      " [4.5 1.3 1. ]\n",
      " [4.7 1.6 1. ]\n",
      " [3.3 1.  1. ]\n",
      " [4.6 1.3 1. ]\n",
      " [3.9 1.4 1. ]\n",
      " [3.5 1.  1. ]\n",
      " [4.2 1.5 1. ]\n",
      " [4.  1.  1. ]\n",
      " [4.7 1.4 1. ]\n",
      " [3.6 1.3 1. ]\n",
      " [4.4 1.4 1. ]\n",
      " [4.5 1.5 1. ]\n",
      " [4.1 1.  1. ]\n",
      " [4.5 1.5 1. ]\n",
      " [3.9 1.1 1. ]\n",
      " [4.8 1.8 1. ]\n",
      " [4.  1.3 1. ]\n",
      " [4.9 1.5 1. ]\n",
      " [4.7 1.2 1. ]\n",
      " [4.3 1.3 1. ]\n",
      " [4.4 1.4 1. ]\n",
      " [4.8 1.4 1. ]\n",
      " [5.  1.7 1. ]\n",
      " [4.5 1.5 1. ]\n",
      " [3.5 1.  1. ]\n",
      " [3.8 1.1 1. ]\n",
      " [3.7 1.  1. ]\n",
      " [3.9 1.2 1. ]\n",
      " [5.1 1.6 1. ]\n",
      " [4.5 1.5 1. ]\n",
      " [4.5 1.6 1. ]\n",
      " [4.7 1.5 1. ]\n",
      " [4.4 1.3 1. ]\n",
      " [4.1 1.3 1. ]\n",
      " [4.  1.3 1. ]\n",
      " [4.4 1.2 1. ]\n",
      " [4.6 1.4 1. ]\n",
      " [4.  1.2 1. ]\n",
      " [3.3 1.  1. ]\n",
      " [4.2 1.3 1. ]\n",
      " [4.2 1.2 1. ]\n",
      " [4.2 1.3 1. ]\n",
      " [4.3 1.3 1. ]\n",
      " [3.  1.1 1. ]\n",
      " [4.1 1.3 1. ]\n",
      " [6.  2.5 2. ]\n",
      " [5.1 1.9 2. ]\n",
      " [5.9 2.1 2. ]\n",
      " [5.6 1.8 2. ]\n",
      " [5.8 2.2 2. ]\n",
      " [6.6 2.1 2. ]\n",
      " [4.5 1.7 2. ]\n",
      " [6.3 1.8 2. ]\n",
      " [5.8 1.8 2. ]\n",
      " [6.1 2.5 2. ]\n",
      " [5.1 2.  2. ]\n",
      " [5.3 1.9 2. ]\n",
      " [5.5 2.1 2. ]\n",
      " [5.  2.  2. ]\n",
      " [5.1 2.4 2. ]\n",
      " [5.3 2.3 2. ]\n",
      " [5.5 1.8 2. ]\n",
      " [6.7 2.2 2. ]\n",
      " [6.9 2.3 2. ]\n",
      " [5.  1.5 2. ]\n",
      " [5.7 2.3 2. ]\n",
      " [4.9 2.  2. ]\n",
      " [6.7 2.  2. ]\n",
      " [4.9 1.8 2. ]\n",
      " [5.7 2.1 2. ]\n",
      " [6.  1.8 2. ]\n",
      " [4.8 1.8 2. ]\n",
      " [4.9 1.8 2. ]\n",
      " [5.6 2.1 2. ]\n",
      " [5.8 1.6 2. ]\n",
      " [6.1 1.9 2. ]\n",
      " [6.4 2.  2. ]\n",
      " [5.6 2.2 2. ]\n",
      " [5.1 1.5 2. ]\n",
      " [5.6 1.4 2. ]\n",
      " [6.1 2.3 2. ]\n",
      " [5.6 2.4 2. ]\n",
      " [5.5 1.8 2. ]\n",
      " [4.8 1.8 2. ]\n",
      " [5.4 2.1 2. ]\n",
      " [5.6 2.4 2. ]\n",
      " [5.1 2.3 2. ]\n",
      " [5.1 1.9 2. ]\n",
      " [5.9 2.3 2. ]\n",
      " [5.7 2.5 2. ]\n",
      " [5.2 2.3 2. ]\n",
      " [5.  1.9 2. ]\n",
      " [5.2 2.  2. ]\n",
      " [5.4 2.3 2. ]\n",
      " [5.1 1.8 2. ]]\n",
      "Label Names:\n",
      " [(0, 'setosa'), (1, 'versicolor'), (2, 'virginica')]\n"
     ]
    }
   ],
   "source": [
    "import numpy as np\n",
    "from sklearn.datasets import load_iris\n",
    "from sklearn.model_selection import train_test_split\n",
    "from sklearn.tree import DecisionTreeClassifier\n",
    "\n",
    "iris = load_iris()\n",
    "X = iris.data[:, 2:] # petal length and width\n",
    "y = iris.target\n",
    "\n",
    "data_print = np.c_[X,y]\n",
    "print('DataSet:\\n', data_print)\n",
    "print('Label Names:\\n', list(enumerate(iris.target_names)))"
   ]
  },
  {
   "cell_type": "markdown",
   "metadata": {},
   "source": [
    "### Visualizing the Dataset"
   ]
  },
  {
   "cell_type": "code",
   "execution_count": 2,
   "metadata": {},
   "outputs": [
    {
     "data": {
      "image/png": "[encoded data removed]",
      "text/plain": [
       "<Figure size 720x720 with 1 Axes>"
      ]
     },
     "metadata": {},
     "output_type": "display_data"
    }
   ],
   "source": [
    "import matplotlib.pyplot as plt\n",
    "\n",
    "%matplotlib inline\n",
    "pos_0 = np.where(y == 0)[0]\n",
    "pos_1 = np.where(y == 1)[0]\n",
    "pos_2 = np.where(y == 2)[0]\n",
    "\n",
    "plt.figure(figsize=(10, 10))\n",
    "plt.plot(X[pos_0, 0], X[pos_0, 1], 'ro', label='setosa')\n",
    "plt.plot(X[pos_1, 0], X[pos_1, 1], 'bo', label='versicolor')\n",
    "plt.plot(X[pos_2, 0], X[pos_2, 1], 'go', label='virginica')\n",
    "\n",
    "plt.title('Scatterplot of Iris-2D')\n",
    "plt.xlabel('petal width')\n",
    "plt.ylabel('petal length')\n",
    "\n",
    "plt.legend(loc=2, prop={'size': 15})\n",
    "plt.show()"
   ]
  },
  {
   "cell_type": "markdown",
   "metadata": {},
   "source": [
    "## Splitting into Train and Test Sets"
   ]
  },
  {
   "cell_type": "code",
   "execution_count": 3,
   "metadata": {},
   "outputs": [],
   "source": [
    "(X_train, X_test, y_train, y_test) = train_test_split(X, y, test_size = 0.3) #Test_Set = 25% by default\n",
    "\n",
    "train_print = np.c_[X_train, y_train]\n",
    "test_print = np.c_[X_test, y_test]\n",
    "\n",
    "# print(\"Training Set:\\n\", train_print)\n",
    "# print(\"Test Set:\\n\", test_print)"
   ]
  },
  {
   "cell_type": "markdown",
   "metadata": {},
   "source": [
    "## Training The Decision Tree Classifier"
   ]
  },
  {
   "cell_type": "code",
   "execution_count": 4,
   "metadata": {},
   "outputs": [
    {
     "data": {
      "text/plain": [
       "DecisionTreeClassifier(class_weight=None, criterion='gini', max_depth=3,\n",
       "            max_features=None, max_leaf_nodes=None,\n",
       "            min_impurity_decrease=0.0, min_impurity_split=None,\n",
       "            min_samples_leaf=1, min_samples_split=2,\n",
       "            min_weight_fraction_leaf=0.0, presort=False, random_state=None,\n",
       "            splitter='best')"
      ]
     },
     "execution_count": 4,
     "metadata": {},
     "output_type": "execute_result"
    }
   ],
   "source": [
    "tree_clf = DecisionTreeClassifier(max_depth=3)\n",
    "tree_clf.fit(X_train, y_train)"
   ]
  },
  {
   "cell_type": "markdown",
   "metadata": {
    "heading_collapsed": true
   },
   "source": [
    "## Making Predictions on the Test Set"
   ]
  },
  {
   "cell_type": "code",
   "execution_count": 5,
   "metadata": {
    "hidden": true
   },
   "outputs": [
    {
     "name": "stdout",
     "output_type": "stream",
     "text": [
      "Predicted Results:\n",
      " [1 2 0 2 2 1 0 0 1 1 1 2 2 2 1 1 1 1 1 0 1 0 1 2 1 1 2 2 2 2 0 0 1 1 2 1 1\n",
      " 1 2 1 2 2 0 2 2]\n",
      "Actual Results:\n",
      " [1 1 0 2 1 1 0 0 1 1 1 2 2 2 1 1 1 1 1 0 1 0 1 1 1 1 2 2 2 2 0 0 1 1 1 1 1\n",
      " 1 2 1 2 2 0 2 2]\n"
     ]
    }
   ],
   "source": [
    "# print(tree_clf.predict_proba(X_test))\n",
    "y_predicted = tree_clf.predict(X_test)\n",
    "\n",
    "print('Predicted Results:\\n', y_predicted)\n",
    "print('Actual Results:\\n', y_test)\n",
    "\n"
   ]
  },
  {
   "cell_type": "markdown",
   "metadata": {},
   "source": [
    "## Analysis"
   ]
  },
  {
   "cell_type": "code",
   "execution_count": 6,
   "metadata": {},
   "outputs": [
    {
     "name": "stdout",
     "output_type": "stream",
     "text": [
      "Total Test Examples:  45\n",
      "Correct:  41\n",
      "Accuracy: 91.11111111111111\n",
      "\n",
      "\n",
      "Confusion Matrix:\n",
      " [[ 8  0  0]\n",
      " [ 0 20  4]\n",
      " [ 0  0 13]]\n",
      "\n",
      "\n",
      "Classification Report:\n",
      "              precision    recall  f1-score   support\n",
      "\n",
      "          0       1.00      1.00      1.00         8\n",
      "          1       1.00      0.83      0.91        24\n",
      "          2       0.76      1.00      0.87        13\n",
      "\n",
      "avg / total       0.93      0.91      0.91        45\n",
      "\n"
     ]
    }
   ],
   "source": [
    "from sklearn.metrics import classification_report, confusion_matrix  \n",
    "\n",
    "total = len(y_test)\n",
    "correct = len(np.where(y_predicted == y_test)[0])\n",
    "print('Total Test Examples: ', total)\n",
    "print('Correct: ', correct)\n",
    "\n",
    "print('Accuracy:', correct/total * 100)\n",
    "\n",
    "print('\\n\\nConfusion Matrix:\\n', confusion_matrix(y_test, y_predicted))  \n",
    "print('\\n\\nClassification Report:\\n', classification_report(y_test, y_predicted))"
   ]
  }
 ],
 "metadata": {
  "kernelspec": {
   "display_name": "Python 3",
   "language": "python",
   "name": "python3"
  },
  "language_info": {
   "codemirror_mode": {
    "name": "ipython",
    "version": 3
   },
   "file_extension": ".py",
   "mimetype": "text/x-python",
   "name": "python",
   "nbconvert_exporter": "python",
   "pygments_lexer": "ipython3",
   "version": "3.6.5"
  },
  "varInspector": {
   "cols": {
    "lenName": 16,
    "lenType": 16,
    "lenVar": 40
   },
   "kernels_config": {
    "python": {
     "delete_cmd_postfix": "",
     "delete_cmd_prefix": "del ",
     "library": "var_list.py",
     "varRefreshCmd": "print(var_dic_list())"
    },
    "r": {
     "delete_cmd_postfix": ") ",
     "delete_cmd_prefix": "rm(",
     "library": "var_list.r",
     "varRefreshCmd": "cat(var_dic_list()) "
    }
   },
   "types_to_exclude": [
    "module",
    "function",
    "builtin_function_or_method",
    "instance",
    "_Feature"
   ],
   "window_display": false
  }
 },
 "nbformat": 4,
 "nbformat_minor": 2
}
