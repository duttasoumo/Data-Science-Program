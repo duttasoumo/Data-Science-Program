{
 "cells": [
  {
   "cell_type": "code",
   "execution_count": 30,
   "metadata": {},
   "outputs": [],
   "source": [
    "import nltk\n",
    "from nltk.corpus import movie_reviews as dataset\n",
    "from nltk.corpus import stopwords\n",
    "import numpy as np\n",
    "from sklearn.feature_extraction.text import CountVectorizer\n",
    "from sklearn.feature_extraction.text import TfidfTransformer\n",
    "\n",
    "#Read document list\n",
    "doclist = dataset.fileids()\n",
    "np.random.shuffle(doclist)\n",
    "#print(doc_list)"
   ]
  },
  {
   "cell_type": "code",
   "execution_count": 33,
   "metadata": {},
   "outputs": [
    {
     "name": "stdout",
     "output_type": "stream",
     "text": [
      "['film', 'one', 'movie', 'like', 'even', 'time', 'good', 'story', 'would', 'much', 'character', 'also', 'get', 'two', 'well', 'characters', 'first', '--', 'see', 'way', 'make', 'life', 'really', 'films', 'plot', 'little', 'people', 'could', 'scene', 'man', 'bad', 'never', 'best', 'new', 'scenes', 'many', 'director', 'know', 'movies', 'action', 'great', 'another', 'love', 'go', 'made', 'us', 'big', 'end', 'something', 'back', 'still', 'world', 'seems', 'work', 'makes', 'however', 'every', 'though', 'better', 'real', 'audience', 'enough', 'seen', 'take', 'around', 'going', 'performance', 'year', 'role', 'old', 'gets', 'may', 'things', 'think', 'years', 'last', 'comedy', 'funny', 'actually', 'long', 'look', 'almost', 'thing', 'fact', 'nothing', 'say', 'john', 'right', 'although', 'played', 'find', 'script', 'come', 'ever', 'cast', 'since', 'star', 'plays', 'young', 'show', 'comes', 'part', 'original', 'actors', 'screen', 'without', 'acting', 'three', 'day', 'point', 'lot', 'least', 'takes', 'guy', 'quite', 'away', 'family', 'effects', 'course', 'goes', 'minutes', 'interesting', 'far', 'might', 'high', 'rather', 'anything', 'must', 'place', 'set', 'yet', 'watch', 'making', 'wife', 'hard', 'always', 'fun', 'seem', 'special', 'times', 'bit', 'trying', 'hollywood', 'instead', 'give', 'picture', 'want', 'kind', 'american', 'job', 'sense', 'woman', 'home', 'series', 'actor', 'probably', 'help', 'half', 'along', 'men', 'everything', 'pretty', 'becomes', 'sure', 'black', 'together', 'dialogue', 'money', 'become', 'gives', 'given', 'looking', 'whole', 'watching', 'father', 'feel', 'everyone', 'music', 'wants', 'sex', 'less', 'done', 'horror', 'got', 'death', 'perhaps', 'city', 'next', 'especially', 'play', 'girl', 'mind', '10', 'moments', 'looks', 'completely', '2', 'mother', 'reason', 'whose', 'line', 'night', 'human', 'performances', 'rest', 'different', 'evil', 'small', 'james', 'simply', 'couple', 'put', 'let', 'anyone', 'ending', 'case', 'several', 'dead', 'michael', 'left', 'thought', 'school', 'true', 'humor', 'shows', 'written', 'friend', 'lost', 'entire', 'getting', 'town', 'turns', 'soon', 'second', 'someone', 'stars', 'main', 'use', 'found', 'friends', 'problem', 'tv', 'top', 'name', 'begins', 'called', 'based', 'comic', 'david', 'head', 'else', 'either', 'idea', 'wrong', 'later', 'unfortunately', 'final', 'alien', 'hand', 'group', 'house', 'full', 'used', 'tries', 'often', 'war', 'sequence', 'keep', 'turn', 'playing', 'named', 'behind', 'boy', 'certainly', 'live', 'believe', 'relationship', 'works', 'face', 'hour', 'run', 'style', 'said', 'person', 'despite', 'finally', 'shot', 'book', 'tell', 'maybe', 'nice', 'son', 'perfect', 'side', 'able', 'seeing', 'finds', 'days', 'past', 'children', 'summer', 'camera', 'including', 'mr', 'kids', 'lives', 'directed', 'moment', 'game', 'running', 'fight', 'supposed', 'video', 'kevin', 'matter', 'car', 'joe', 'lines', 'worth', 'daughter', 'earth', 'starts', 'need', 'entertaining', 'white', 'start', 'writer', 'dark', 'short', 'self', 'worst', 'nearly', 'try', 'opening', 'upon', 'care', 'violence', 'early', 'team', 'throughout', 'example', 'production', 'beautiful', 'title', 'exactly', 'jack', 'major', 'review', 'drama', 'sequences', 'problems', 'screenplay', 'known', 'obvious', 'version', 'robert', 'killer', 'disney', 'classic', 'already', 'close', 'others', 'kill', 'hit', 'deep', 'order', 'simple', 'five', 'fine', 'act', 'heart', 'roles', 'direction', 'jackie', 'eyes', 'four', 'sort', 'question', 'knows', 'sometimes', 'supporting', 'women', 'voice', 'coming', 'truly', 'computer', 'save', 'jokes', 'child', '1', 'boring', 'level', 'tom', 'body', 'brother', 'guys', 'genre', 'room', 'strong', 'stop', 'space', 'lee', 'ends', 'beginning', 'ship', 'york', 'attempt', 'thriller', 'scream', 'peter', 'husband', 'fiction', 'hero', 'happens', 'novel', 'hope', 'note', 'yes', 'king', 'says', 'tells', 'quickly', 'oscar', 'romantic', 'dog', 'stupid', 'possible', 'saw', 'career', 'lead', 'murder', 'manages', 'extremely', 'god', 'mostly', 'wonder', 'particularly', 'future', 'fans', 'sound', 'worse', 'piece', 'involving', 'de', 'appears', 'planet', 'involved', 'paul', 'none', 'mean', 'laugh', 'taking', 'hours', 'co', 'sets', 'attention', 'police', 'eventually', 'hell', 'falls', 'emotional', 'fall', 'single', 'material', 'power', 'late', 'result', 'van', 'lack', 'dr', 'meet', 'elements', 'smith', 'science', 'experience', 'wild', 'bring', 'theater', 'living', 'interest', 'leads', 'word', 'feature', 'battle', 'girls', 'alone', 'obviously', 'george', 'usually', 'enjoy', 'within', 'among', 'guess', 'laughs', 'taken', 'feeling', 'aliens', 'talk', 'talent', 'chance', 'easy', 'number', 'middle', '3', 'needs', 'attempts', 'across', 'happen', 'chris', 'television', 'form', 'deal', 'poor', 'girlfriend', 'forced', 'viewer', 'killed', 'release', 'whether', 'wonderful', 'expect', 'serious', 'light', 'feels', 'tale', 'features', 'oh', 'success', 'premise', 'except', 'history', 'leave', 'happy', 'important', 'words', 'meets', 'giving', 'crew', 'released', 'art', 'call', 'impressive', 'type', 'turned', 'parents', 'mission', 'working', 'seemed', 'told', 'score', 'entertainment', 'basically', 'america', 'robin', 'recent', 'surprise', 'apparently', 'easily', 'ryan', 'office', 'williams', 'cop', 'change', 'crime', 'cool', 'stuff', 'parts', 'somehow', 'sequel', 'cut', 'william', 'die', 'jones', 'batman', 'credits', 'suspense', 'brings', 'events', 'reality', 'local', 'straight', 'hilarious', 'difficult', 'went', 'writing', 'using', 'near', 'talking', 'remember', 'ben', 'ago', 'certain', 'blood', 'slow', 'mystery', 'kid', 'popular', 'effective', 'fast', 'complete', 'red', 'due', 'flick', 'runs', 'return', 'presence', 'quality', 'gone', 'filmmakers', 'dramatic', 'age', 'brothers', 'business', 'general', 'present', 'sexual', 'rock', 'uses', 'surprisingly', 'anyway', 'personal', 'figure', 'smart', '4', 'decides', 'ways', 'annoying', 'begin', 'shots', 'somewhat', 'rich', 'minute', 'law', 'successful', 'similar', 'motion', 'previous', 'jim', 'absolutely', 'former', 'water', 'harry', 'strange', 'read', 'came', 'million', 'follow', 'project', 'excellent', 'secret', 'clear', 'familiar', 'amazing', 'intelligent', 'romance', 'starring', 'third', 'prison', 'means', 'eye', 'actress', 'latest', 'company', 'budget', 'party', 'towards', 'powerful', 'bob', 'predictable', 'leaves', 'visual', 'beyond', 'villain', 'leaving', 'r', 'following', 'nature', 'sam', 'low', 'animated', 'filled', 'bill', 'wars', 'b', 'country', 'moving', 'questions', 'box', 'message', 'cinema', 'add', 'clever', 'usual', 'create', 'definitely', 'martin', 'large', 'situation', 'stories', 'murphy', 'giant', 'brilliant', 'felt', 'ones', 'drug', 'break', 'doubt', 'opens', 'scary', 'thinking', 'solid', 'bunch', 'effect', 'learn', 'move', 'potential', 'seriously', 'force', 'follows', 'saying', 'huge', 'plan', 'class', 'agent', 'unlike', 'created', 'sweet', 'non', 'perfectly', 'pay', 'married', 'mark', 'realize', 'audiences', 'ex', 'took', 'happened', 'subject', 'understand', 'dream', 'view', 'enjoyable', 'scott', 'likely', 'decent', 'viewers', 'cameron', 'heard', 'studio', 'open', 'immediately', 'points', 'e', 'truman', 'bruce', 'frank', 'stay', 'richard', 'impossible', 'cold', 'private', 'fails', 'exciting', 'merely', 'overall', 'free', 'appear', 'mess', 'wanted', 'chase', 'neither', 'carter', 'gun', 'ten', 'fan', 'escape', 'ultimately', 'trek', 'l', 'brought', 'trouble', 'stone', 'wedding', 'inside', 'favorite', 'modern', 'otherwise', '5', 'allen', 'tim', 'bond', 'dumb', 'liked', 'society', 'political', 'musical', 'various', 'stand', 'west', 'particular', 'talented', 'state', 'keeps', 'park', 'u', 'silly', 'situations', 'english', 'teen', 'rating', 'truth', 'steve', 'slightly', 'air', 'spend', 'key', 'element', 'joke', 'members', 'effort', 'government', 'focus', 'biggest', 'eddie', 'purpose', 'hands', 'today', 'earlier', 'soundtrack', 'chan', 'showing', 'memorable', 'cannot', 'six', 'max', 'offers', 'heavy', 'rated', 'mars', 'totally', 'fi', 'control', 'woody', 'credit', 'sci', 'sit', 'ideas', 'wait', 'list', 'depth', 'simon', 'sister', 'female', 'aspect', 'ask', 'waste', 'terrible', 'mary', 'entirely', 'animation', 'steven', 'army', 'fear', 'fire', 'actual', 'constantly', 'moves', 'british', 'gave', 'tension', 'setting', 'convincing', 'screenwriter', 'spent', 'ability', 'cinematography', 'brief', 'ridiculous', 'street', 'nick', 'typical', '8', 'subtle', 'quick', 'violent', 'atmosphere', 'fairly', 'seven', 'expected', 'killing', 'tone', 'master', 'cheap', 'lots', 'thinks', 'willis', 'club', 'song', 'suddenly', 'disaster', 'background', 'whatever', 'greatest', 'complex', 'impact', 'sees', 'highly', 'front', 'indeed', 'amusing', 'wrote', 'ii', 'humans', 'flat', 'mike', 'grace', 'beauty', 'college', 'wish', 'plenty', 'recently', 'dull', 'hate', 'cute', 'minor', 'titanic', 'outside', 'godzilla', 'queen', 'meanwhile', 'double', 'cinematic', 'hold', 'telling', 'sight', 'sounds', 'approach', 'baby', 'theme', 'x', 'awful', 'hear', 'amount', 'clearly', 'reasons', 'charm', 'miss', 'island', 'shown', 'dreams', 'longer', 'sean', 'carry', 'realistic', 'believable', 'common', 'chemistry', 'casting', 'possibly', 'ride', 'choice', 'tough', 'produced', 'imagine', 'trailer', 'french', 'carrey', 'race', 'delivers', 'slowly', 'leader', 'brown', 'jackson', 'detective', 'somewhere', 'thin', 'jerry', 'road', 'hot', 'provide', 'puts', 'asks', 'appearance', 'critics', 'famous', 'president', 'member', 'intelligence', 'sent', 'energy', 'proves', 'language', 'spielberg', 'blue', 'etc', 'okay', 'development', 'vampire', 'caught', 'decide', 'images', 'basic', 'incredibly', 'seemingly', 'opportunity', 'knew', 'considering', 'interested', 'climax', 'event', 'writers', 'remains', 'directing', 'thanks', 'band', 'j', 'boys', 'ground', 'conclusion', 'leading', 'alive', 'forget', 'lies', 'tarzan', 'century', 'provides', 'tarantino', 'trip', 'central', 'period', 'partner', 'pace', 'ready', 'date', 'terrific', 'thus', '1998', 'worked', 'led', 'write', 'mysterious', 'stands', 'occasionally', 'doctor', 'details', 'hardly', 'songs', 'onto', 'monster', 'average', 'apart', 'producer', 'store', 'consider', 'pull', 'aside', 'travolta', 'wasted', 'boss', 'billy', 'system', 'subplot', 'becoming', 'loud', 'officer', 'twenty', 'contains', 'pictures', 'julia', 'looked', 'cage', 'learns', 'la', 'personality', 'apartment', 'missing', 'building', 'hong', 'bizarre', 'lawyer', 'flaws', 'unique', 'catch', 'powers', 'admit', 'student', '7', 'shoot', '000', 'thrown', 'waiting', 'matthew', 'needed', 'green', 'concept', 'laughing', 'christopher', 'twists', 'touch', 'machine', 'mention', 'victim', 'search', 'danny', 'cover', 'discovers', 'share', 'train', 'win', 'saving', 'manner', '1997', 'door', 'image', 'singer', 'deserves', 'male', 'adds', 'cross', 'adult', 'odd', 'returns', 'normal', 'lame', 'answer', 'adventure', 'fox', 'social', 'fashion', 'barely', 'equally', 'directors', 'gore', '1999', 'include', 'introduced', 'months', 'news', 'states', 'became', 'innocent', 'teacher', 'camp', 'dance', 'hair', 'food', 'land', 'nights', 'sad', 'includes', 'jennifer', 'latter', 'witch', 'jason', 'julie', 'tried', 'changes', 'contact', 'pulp', 'surprised', 'elizabeth', 'fellow', 'jean', 'hill', 'rate', 'gay', 'henry', 'menace', 'storyline', 'walk', 'recommend', 'enjoyed', 'forward', 'offer', 'wise', 'literally', 'pop', 'discover', 'public', 'standard', '90', 'anderson', 'fair', 'rescue', 'drive', 'charming', 'toy', 'terms', 'mouth', 'c', 'lucas', 'chinese', 'natural', 'younger', 'edge', 'douglas', 'born', 'decided', 'weak', 'dies', 'culture', 'footage', 'presented', 'blade', 'accident', 'russell', 'detail', 'explain', 'disturbing', 'week', 'addition', 'debut', 'devil', 'track', 'attack', 'creates', 'teenage', 'generally', 'roger', 'developed', 'sadly', 'horrible', 'older', 'fresh', 'exception', 'issues', 'rarely', 'fully', 'prove', 'rules', 'winning', 'gang', 'inspired', 'twist', 'species', 'jr', 'jeff', 'meaning', 'emotions', 'faces', 'numerous', 'patrick', 'filmed', 'involves', 'bright', 'heroes', 'rush', 'forces', 'fighting', 'desperate', 'flying', 'alan', 'ass', 'charles', 'kong', 'weird', 'calls', 'surprising', 'vegas', 'stage', 'toward', 'revenge', 'intended', 'information', 'apparent', 'opinion', 'twice', 'jay', 'editing', 'gags', 'lose', 'captain', 'crazy', 'epic', 'gibson', 'appeal', 'speak', 'likes', 'throw', 'places', 'genuine', 'owner', 'pair', 'military', 'formula', 'episode', 'buy', 'kiss', 'phone', 'please', 'creating', '20', 'boyfriend', 'talents', 'arnold', 'cause', 'filmmaking', 'length', 'blair', 'nowhere', 'kelly', 'nicely', 'pass', 'wide', 'heads', 'pathetic', 'witty', 'fantasy', 'asked', 'mrs', 'lacks', 'mood', 'loved', 'shakespeare', 'mulan', 'fascinating', 'kept', 'generation', 'pieces', 'burton', 'rare', 'task', 'cameo', 'fbi', 'affair', 'ed', 'academy', 'incredible', 'artist', 'superior', 'thomas', 'spirit', 'accent', 'technical', 'lover', 'matt', 'appropriate', 'process', 'confusing', 'considered', 'dennis', 'target', 'theaters', 'confused', 'shame', 'campbell', 'rob', 'legend', 'christmas', 'poorly', 'mentioned', 'plane', 'soul', 'woo', 'names', 'pick', 'bottom', 'speech', 'brain', 'award', 'speaking', 'intriguing', 'virtually', 'sitting', 'superb', 'crap', 'worthy', 'marriage', 'journey', 'creepy', 'ice', 'dude', 'forever', '13', 'masterpiece', 'affleck', 'allows', 'necessary', 'station', 'respect', 'pointless', 'silent', 'dimensional', 'deliver', 'product', 'magic', 'suppose', 'charlie', 'cash', 'relief', 'reviews', 'physical', 'meant', 'appreciate', 'avoid', 'spends', 'count', 'hits', 'cliches', 'relationships', 'cops', 'stephen', 'attitude', 'pure', 'impression', 'limited', 'princess', 'pain', 'failed', 'viewing', 'plans', 'woods', 'unless', 'loves', 'creature', 'rising', 'kate', 'holds', 'sub', 'total', 'moral', 'step', 'matrix', 'color', 'angry', 'baldwin', 'themes', 'wit', 'stuck', 'touching', 'tony', 'satire', 'wall', 'drawn', 'arts', 'ray', 'remake', 'hanks', 'damn', 'continues', 'comedic', 'anti', 'criminal', 'expectations', 'nobody', 'soldiers', 'comedies', 'device', 'angels', 'humorous', 'graphic', 'stunning', 'actions', 'keeping', 'disappointing', 'emotion', 'suspect', 'unfunny', 'phantom', 'martial', 'added', 'driver', 'floor', 'shallow', 'appealing', 'edward', 'mad', 'cartoon', 'realized', 'sign', 'industry', 'fat', 'blame', 'rocky', 'design', 'portrayal', 'united', 'reach', 'era', 'speed', 'field', 'compared', 'grand', 'opposite', 'falling', 'damme', 'troopers', 'match', 'ok', 'finale', 'urban', 'hotel', 'loving', 'apes', 'rose', 'larry', 'therefore', 'spice', 'humanity', 'started', 'lady', 'intense', 'results', 'pg', 'adults', 'radio', 'dad', 'managed', 'wonderfully', 'loses', 'manage', 'guns', 'naked', 'willing', 'generated', 'frightening', 'tommy', 'teenagers', 'scientist', 'notice', 'utterly', 'players', 'horse', 'imagination', 'washington', 'slasher', 'mix', 'rent', 'bland', 'walking', 'board', 'g', 'moore', 'price', 'bored', 'attractive', 'mel', 'dollars', 'matters', 'producers', 'dvd', 'join', 'jane', 'post', 'spectacular', 'parody', 'adaptation', 'johnny', 'wayne', 'chosen', 'exist', 'zero', 'documentary', 'vampires', 'shooting', 'compelling', 'reading', 'featuring', 'trust', 'drugs', 'visuals', 'fate', 'cruise', 'plain', 'safe', 'ford', 'feelings', 'honest', 'media', 'hoping', 'build', 'sympathetic', 'spawn', 'professional', 'protagonist', 'boat', 'hall', 'difference', 'feet', 'gold', 'patch', 'finding', 'dangerous', 'smile', 'dying', 'grant', 'visually', 'portrayed', 'roberts', 'decision', 'bug', 'starship', 'plus', 'flicks', 'allow', 'bringing', 'watched', 'sexy', 'turning', 'tired', 'crowd', 'destroy', 'south', 'broken', 'hunt', 'alex', 'died', 'changed', 'cult', 'jedi', '30', 'fake', 'vincent', 'identity', 'believes', 'fail', 'shock', 'flynt', 'engaging', 'aspects', 'ups', 'serve', 'survive', 'expecting', 'constant', 'technology', 'send', 'likable', '100', 'current', 'yeah', 'decade', 'humour', 'goofy', 'jimmy', 'buddy', 'babe', 'brooks', 'files', 'snake', 'supposedly', 'welcome', 'books', 'professor', 'brian', 'determined', 'kills', 'pleasure', 'mob', 'individual', 'annie', 'test', 'eight', 'promise', 'presents', 'ted', 'succeeds', 'sandler', 'hospital', 'hidden', 'conflict', 'contrived', 'genius', 'helps', 'support', 'ultimate', 'lucky', 'goal', 'direct', 'provided', 'taylor', 'fare', 'nasty', 'window', 'content', 'lynch', 'japanese', 'sick', 'ghost', 'scale', 'filmmaker', 'haunting', 'fantastic', 'gary', 'winner', 'carpenter', 'virus', 'faith', 'breaks', 'frame', 'ms', 'press', 'badly', 'al', 'crash', 'seagal', 'travel', 'cares', 'fit', 'amy', 'paced', 'driving', 'catherine', 'available', 'reeves', 'ahead', 'porn', 'f', 'miller', 'narrative', 'extreme', 'accept', 'headed', 'guilty', 'began', 'liners', 'overly', 'grows', 'helen', 'lord', 'instance', 'fault', 'excuse', 'bus', 'forgotten', '9', 'offensive', 'directly', 'deals', 'failure', 'jail', 'quiet', 'emotionally', 'cheesy', 'outstanding', 'court', 'laughable', 'model', 'super', 'security', 'stuart', 'bar', 'sheer', 'acted', 'season', 'austin', 'surface', '6', 'folks', 'mediocre', 'beach', 'damon', 'hurt', 'fame', 'nudity', 'center', 'acts', 'bloody', 'strength', 'meeting', 'funniest', 'reveal', 'standing', 'substance', 'placed', 'check', 'beast', 'joan', 'nuclear', 'slapstick', '1996', 'fly', 'hunting', 'realizes', 'dealing', 'seat', 'gangster', 'driven', 'suspects', 'adams', 'seconds', 'clich', 'comparison', 'remarkable', 'responsible', 'position', 'treat', 'desire', 'wondering', 'routine', 'myers', 'struggle', 'cinematographer', 'hopes', 'football', 'singing', 'taste', 'stock', 'heaven', 'eccentric', 'player', 'community', 'strike', 'sharp', 'ill', 'streets', 'happening', 'thoroughly', 'anthony', 'hopkins', 'skills', 'thankfully', 'ended', 'guard', 'characterization', 'surprises', 'growing', 'costumes', 'beat', 'williamson', 'originally', 'creative', 'sarah', 'ugly', 'rival', 'figures', 'explained', 'missed', 'breaking', 'extra', 'steal', 'scorsese', 'oliver', 'visit', 'followed', 'critic', 'continue', 'value', 'serial', 'sea', 'anne', 'inevitable', 'students', 'hollow', 'joel', 'built', 'villains', 'lacking', 'hey', 'core', 'animal', 'lets', 'freeman', 'animals', 'sorry', 'sidney', 'crystal', 'claire', 'cusack', 'judge', 'fights', 'gotten', 'hip', 'thirty', 'arrives', 'games', 'mistake', 'derek', 'quest', 'boogie', 'explanation', 'included', '1995', 'veteran', 'stick', 'knowledge', 'jump', '15', 'draw', 'clooney', 'chief', 'develop', 'everybody', 'church', 'serves', 'record', 'obsessed', 'rise', 'grow', 'capable', 'clean', 'armageddon', 'previously', 'holes', 'pacing', 'schwarzenegger', 'mainly', 'flashbacks', 'fill', 'frequently', 'barry', 'vision', 'witness', 'luck', 'enter', 'heavily', 'religious', 'keaton', 'russian', 'screenwriters', 'bigger', 'adam', 'synopsis', 'bobby', 'memory', 'encounter', 'suit', 'stallone', 'lawrence', 'bacon', 'victims', 'bed', 'hearted', 'disappointment', 'unexpected', 'nicholson', 'empty', 'saved', 'noir', 'tragedy', 'spot', 'hunter', 'walter', 'numbers', 'study', 'range', 'relatively', 'worker', 'freedom', 'assistant', 'warm', 'existence', 'pulled', 'justice', 'sky', 'theatre', 'logic', 'mental', 'ripley', 'fish', 'morning', 'andrew', 'efforts', 'evidence', 'vehicle', 'cliched', 'verhoeven', 'describe', 'wood', 'courtroom', 'jonathan', 'cliche', 'connection', 'jon', 'talks', 'putting', 'ball', 'unnecessary', 'rip', 'learned', 'angel', 'grown', 'contrast', 'foot', 'weeks', 'london', 'alice', 'skin', 'positive', 'roll', 'naturally', 'asking', 'remain', 'international', 'fifteen', 'faced', 'traditional', 'prince', 'causes', 'eve', 'eric', 'bound', 'regular', 'bank', 'moved', 'rain', 'aware', 'exact', 'genuinely', 'niro', 'path', 'las', 'anna', 'pilot', 'knowing', 'hundred', 'reminiscent', 'held', 'captured', 'besides', 'independence', 'daniel', 'rule', 'shocking', 'trash', 'concerned', 'largely', 'greater', 'paris', 'desperately', 'cell', 'elaborate', 'ocean', 'punch', 'eat', 'claims', 'shrek', 'flash', 'minds', 'essentially', 'satisfying', 'whenever', 'psychological', 'explains', 'nomination', 'allowed', 'occasional', 'blockbuster', 'hank', 'disappointed', 'starting', 'pie', 'suggest', 'thrillers', 'jake', 'neil', 'marry', 'danger', 'pig', 'storm', 'national', 'terror', 'wearing', 'baseball', 'dogs', 'agrees', 'joy', 'critique', 'threatening', 'league', 'historical', 'suicide', 'afraid', 'mom', 'psycho', '17', 'perspective', 'plots', 'arquette', 'source', 'murders', 'revealed', 'jar', 'fallen', 'painful', 'successfully', 'sends', 'patient', 'covered', 'department', 'n', 'theatrical', 'necessarily', 'passion', 'service', 'references', 'structure', 'attacks', 'murray', 'opera', 'bomb', 'occur', 'stiller', 'chicago', 'luke', 'suspenseful', 'trilogy', 'seth', 'cuts', 'intensity', 'painfully', 'wilson', 'wrestling', 'nine', 'agree', 'brad', 'pulls', 'unfortunate', 'con', 'nightmare', 'stunts', '80', 'cars', 'drunken', 'sleep', 'halloween', 'tradition', 'bulworth', 'soft', 'climactic', 'cat', 'suffering', 'harris', 'choices', 'unbelievable', 'steals', 'stops', 'lovely', 'quaid', 'sole', 'surely', 'ensemble', 'loose', 'author', 'oddly', 'warning', 'gross', 'weapon', 'initially', 'conspiracy', 'ape', 'dirty', 'program', 'nevertheless', 'england', 'narration', 'hanging', 'dinner', 'laughter', 'memories', '50', 'china', 'jungle', 'broderick', 'investigation', 'foreign', 'refuses', 'bitter', 'behavior', 'african', 'capture', 'critical', 'requires', 'slave', 'deadly', 'segment', 'convinced', 'terribly', 'wealthy', 'makers', 'answers', 'spy', 'subplots', 'reaction', 'donnell', 'creatures', 'risk', 'originality', 'monkey', '12', 'lewis', 'friendship', 'uninteresting', 'christian', 'stolen', 'significant', 'fu', 'met', 'reminded', 'status', 'thrills', 'duvall', 'nbsp', 'walks', 'endless', 'showed', 'commercial', 'soldier', 'terry', 'thoughts', 'excitement', 'prime', 'wears', 'greg', 'terminator', 'accidentally', 'sequels', 'beloved', 'todd', 'described', 'understanding', 'german', 'schumacher', 'suffers', 'complicated', 'desert', 'unlikely', '2001', 'discovered', 'shop', 'rick', 'flaw', 'voiced', 'li', 'effectively', 'hired', 'bag', 'meg', 'tight', 'bear', 'scare', 'weekend', 'performers', 'keanu', 'p', 'melvin', 'explosions', 'mickey', 'delightful', 'proceedings', 'speaks', 'root', 'texas', 'vacation', 'halfway', 'handled', 'handle', 'gag', 'collection', 'heroine', 'sudden', 'quirky', 'photography', 'dean', 'flesh', 'strikes', 'crisis', 'sports', 'issue', 'extraordinary', 'killers', 'dragon', 'laughed', 'mid', 'lovers', 'ethan', 'lebowski', 'pitt', 'irritating', 'selling', 'gift', 'childhood', 'tense', 'wind', 'enemy', 'tragic', 'murdered', 'finest', 'fugitive', 'anywhere', 'extended', 'destroyed', 'drunk', '0', 'unable', 'western', 'cole', 'unusual', 'chicken', 'goodman', 'frankly', 'barrymore', 'embarrassing', 'ordinary', 'hype', 'loser', 'phil', 'gonna', 'sing', 'attempting', 'values', 'dollar', 'drop', 'norton', 'losing', 'kung', 'touches', 'dozen', 'ian', 'crow', 'italian', 'magazine', 'instinct', 'lonely', 'weapons', 'blow', 'helped', 'universe', 'loss', 'friendly', 'voices', 'knock', 'nonetheless', 'insight', 'campaign', 'throwing', 'unknown', 'costume', 'promising', 'lived', 'fairy', 'deeper', 'karen', 'twisted', '80s', 'lake', 'advice', 'circumstances', 'larger', 'related', 'soap', 'basis', 'display', 'entertain', 'flashback', 'corner', 'obligatory', 'albeit', 'hitchcock', 'hole', 'required', 'politics', 'trio', 'sidekick', 'mtv', 'commentary', 'toys', 'comments', 'adventures', 'bugs', 'stretch', 'sell', 'dancing', 'jurassic', 'practically', 'saturday', 'initial', 'cowboy', 'signs', 'multiple', 'notes', 'experiences', 'exercise', 'combination', 'struggling', 'table', 'angle', 'paid', 'jobs', 'bride', 'haunted', 'closer', 'pre', 'erotic', 'spacey', 'reporter', 'introduces', 'holding', 'recall', 'aforementioned', 'fifth', 'horizon', 'destination', 'priest', 'handful', 'inventive', 'digital', 'revolves', 'copy', 'recognize', 'sitcom', 'blues', 'hoffman', 'storytelling', 'drew', 'hint', 'ironic', 'picks', 'buddies', 'encounters', 'reveals', 'importantly', 'remaining', 'challenge', 'absurd', 'ad', 'provoking', 'granted', 'trapped', 'paper', 'kick', 'romeo', 'medical', 'ellie', 'trailers', 'blonde', 'dry', 'colorful', 'terrorist', 'judd', 'hopefully', 'artistic', 'darkness', 'studios', 'mouse', 'assume', 'colors', 'packed', 'replaced', 'michelle', 'featured', 'market', 'lloyd', 'designed', 'size', 'metal', 'sixth', 'generic', 'bore', 'magical', 'cox', 'truck', 'costner', 'andy', 'beautifully', 'grade', 'howard', 'sir', 'clothes', 'kenneth', 'golden', 'develops', 'reese', 'deeply', 'bone', 'outrageous', 'wear', 'connor', 'lisa', 'midnight', 'steps', 'chases', 'penn', 'primary', 'doors', '2000', 'besson', 'investigate', 'contemporary', 'scenery', 'inept', 'location', 'blown', 'tiny', 'perform', 'chain', 'eating', 'multi', 'proof', 'notable', 'higher', 'prinze', 'remotely', 'sandra', 'cgi', 'coach', 'scheme', 'research', 'bleak', 'threat', 'wes', 'directorial', 'dillon', 'abandoned', 'universal', 'bodies', 'weight', 'screening', 'mafia', 'gorgeous', 'suggests', 'overcome', 'religion', 'homage', 'conventional', 'treatment', 'rolling', 'jackal', 'hearing', 'drives', 'par', 'maggie', 'depressing', 'dressed', 'alas', 'morgan', '54', 'glenn', 'foster', 'cry', 'youth', 'troubled', 'americans', 'notch', 'pregnant', 'whatsoever', 'ancient', 'brilliantly', 'river', 'wonders', 'flawed', 'sheriff', 'gene', 'statement', 'dan', 'birth', 'brutal', 'graham', 'bits', 'countless', 'wong', 'depp', 'cutting', 'bang', 'bother', 'jet', 'laura', 'theory', 'round', 'semi', 'forth', 'hughes', 'capsule', 'silver', 'screaming', 'executive', 'pleasant', 'ordell', 'term', 'occurs', 'cable', 'parker', 'focuses', 'obnoxious', 'agents', 'trade', 'mine', 'stewart', 'disbelief', 'facts', 'trick', 'armed', 'convince', 'mile', 'mitchell', 'beating', 'families', 'mere', 'episodes', 'warner', 'suffer', 'conversation', 'appearances', 'deserve', 'carries', 'fortunately', 'protagonists', 'wooden', 'mature', 'clueless', 'trite', 'hang', 'sonny', 'arm', 'kim', 'according', 'tucker', 'projects', 'disco', 'tribe', 'types', 'dialog', 'likeable', 'strip', 'stereotypes', 'luckily', 'natasha', 'qualities', 'accomplished', 'crafted', 'kilmer', 'beatty', 'johnson', 'destruction', 'fortune', 'davis', 'expensive', 'stylish', 'defense', 'favor', 'abilities', 'pacino', 'degree', 'appeared', 'dick', 'false', 'gratuitous', 'actresses', 'festival', 'setup', '1993', 'cruel', 'delight', 'base', 'refreshing', 'succeed', 'decades', 'vs', 'emma', 'airplane', 'roth', 'lie', 'sake', 'intellectual', 'lucy', 'exchange', 'passed', 'neeson', 'corny', 'innocence', 'buzz', 'baker', 'dropped', 'dicaprio', 'mighty', 'mainstream', 'boxing', 'october', '40', 'block', 'operation', 'fiennes', 'raise', 'established', 'harrelson', 'progresses', 'thief', 'bridge', 'irish', 'spoken', 'fred', 'stereotypical', 'breasts', 'executed', 'adapted', 'thrilling', 'north', 'warrior', 'fincher', 'persona', 'prisoners', 'fits', 'arms', 'training', 'awkward', 'dress', 'inner', 'increasingly', 'command', 'smoking', 'esque', 'providing', 'miles', 'susan', 'paltrow', 'execution', 'francis', 'spending', 'workers', 'bastard', 'legendary', 'holiday', 'wan', 'spoilers', 'ron', 'trial', 'diamond', 'amanda', 'raised', 'scientists', 'neve', 'picked', 'intentions', 'mixed', 'perfection', 'tears', 'honor', 'tyler', 'equal', 'spiritual', 'tedious', 'mask', 'branagh', 'sat', 'jan', 'charge', 'jolie', 'kubrick', 'realism', 'stealing', 'cuba', 'tend', 'factor', 'endearing', 'via', 'escapes', 'editor', 'prisoner', 'charisma', 'expert', 'reference', 'gory', 'variety', 'drinking', 'scared', 'tracks', 'skip', 'carefully', 'designer', 'sorts', 'letting', 'combined', 'survivors', 'achievement', 'expression', 'clue', 'notion', 'alicia', 'suits', 'makeup', 'area', 'sympathy', 'entry', 'ghosts', 'notably', 'installment', 'los', 'angeles', 'ring', 'independent', 'deserved', 'spots', 'classics', 'remembered', 'bet', 'forest', 'anymore', 'henstridge', 'virtual', 'gordon', 'movement', 'com', 'arthur', 'robot', 'strangely', 'rape', 'random', 'viewed', 'sun', 'glory', 'mail', 'jordan', 'shut', 'flubber', 'consistently', 'robocop', 'interaction', 'drag', 'negative', 'horribly', 'sword', 'wins', 'reminds', '1994', 'learning', 'everywhere', 'downright', 'anybody', 'filming', 'stronger', 'timing', 'idiotic', 'wallace', 'energetic', 'wave', 'crucial', 'surreal', 'demands', 'manager', 'wing', 'attraction', 'distracting', 'butt', 'wahlberg', 'craven', 'franchise', 'accused', 'exists', 'gloria', 'fonda', 'neighbor', 'randy', 'enormous', 'handsome', 'fantasies', 'malkovich', 'marks', 'restaurant', 'prior', 'insult', 'blind', 'condition', 'produce', 'jesus', 'personally', 'village', 'teens', 'betty', 'banderas', 'carol', '\\x12', 'millionaire', 'tricks', 'braveheart', 'consists', 'mildly', 'carrie', 'breathtaking', 'spirited', 'received', 'satan', 'passes', 'fool', 'hackman', 'chasing', 'civil', 'infamous', 'handed', 'treated', 'thompson', 'delivering', 'bathroom', 'jeffrey', 'mountain', 'settle', 'levels', 'throws', 'sides', 'ironically', 'freeze', 'monsters', 'california', 'flight', 'france', 'twin', 'palma', 'albert', 'lethal', 'senses', 'stanley', 'denise', 'supernatural', 'ensues', 'cauldron', 'lifeless', 'sisters', 'saves', 'delivered', 'snow', 'drags', 'basketball', 'k', 'eyed', 'welles', 'diaz', 'bats', 'marie', '8mm', 'invisible', 'treats', 'lights', 'highlight', 'anger', 'birthday', 'portrays', 'kidnapped', 'imagery', 'mass', 'ashley', 'luc', 'closing', 'appropriately', 'contain', 'frankenstein', 'gabriel', 'confrontation', 'staged', 'ho', 'finish', 'environment', 'garbage', 'sleepy', 'lighting', 'impressed', 'obi', 'allowing', 'leo', 'cameos', 'paxton', 'network', 'richards', 'fears', 'explored', 'gain', 'bat', 'jamie', 'quentin', 'pam', 'delivery', 'card', 'connery', 'wildly', 'gere', 'un', '70s', 'murderer', 'millions', 'till', 'finn', 'snipes', 'enjoying', 'altman', 'explaining', 'flashy', 'engaged', 'kinds', 'empire', 'campy', 'crowe', 'orders', 'warriors', 'committed', 'relies', 'cases', 'stunt', 'legs', 'vicious', 'crazed', 'ludicrous', 'month', 'disc', 'shining', 'comet', 'colonel', 'glass', '60', 'spin', 'southern', 'blank', 'bird']\n"
     ]
    },
    {
     "name": "stdout",
     "output_type": "stream",
     "text": [
      "3000\n",
      "2000 3000\n"
     ]
    }
   ],
   "source": [
    "#build corpus and vocab\n",
    "corpus = []\n",
    "Y = []\n",
    "for fn in doclist:\n",
    "    corpus.append(dataset.raw(fn))\n",
    "    Y.append(dataset.categories(fn))\n",
    "    \n",
    "#StopWords Removal\n",
    "sw = stopwords.words('english') + list(string.punctuation)\n",
    "all_words = dataset.words()\n",
    "vocab = [x for x in all_words if x not in sw]\n",
    "#Getting most frequent words\n",
    "vocab_top = list(dict(nltk.FreqDist(vocab).most_common()).keys())[:3000]\n",
    "print(vocab_top)"
   ]
  },
  {
   "cell_type": "code",
   "execution_count": null,
   "metadata": {},
   "outputs": [],
   "source": [
    "vec = CountVectorizer(vocabulary=vocab_top)\n",
    "X = vec.fit_transform(corpus).toarray()\n",
    "Y = np.array(Y)\n",
    "# print(X[:5])\n",
    "# print(Y[:5])\n",
    "#print(len(vocab_top))\n",
    "# print(X)\n",
    "\n",
    "#tf-idf weights\n",
    "tfidf = TfidfTransformer()\n",
    "X_w = tfidf.fit_transform(X)\n",
    "\n",
    "\n",
    "#Making the training and testing sets\n",
    "(m, n) = X_w.shape\n",
    "print(m, n)\n",
    "\n",
    "X_train = X_w[:1800, :]\n",
    "Y_train = Y[:1800, :]\n",
    "\n",
    "X_test = X_w[1800:, :]\n",
    "Y_test = Y[1800:, :]"
   ]
  },
  {
   "cell_type": "code",
   "execution_count": 34,
   "metadata": {},
   "outputs": [],
   "source": [
    "from sklearn.naive_bayes import MultinomialNB\n",
    "\n",
    "clf = MultinomialNB()\n",
    "clf.fit(X_train, np.squeeze(Y_train))\n",
    "\n",
    "Y_pred = clf.predict(X_test)\n"
   ]
  },
  {
   "cell_type": "code",
   "execution_count": 35,
   "metadata": {},
   "outputs": [
    {
     "name": "stdout",
     "output_type": "stream",
     "text": [
      "             precision    recall  f1-score   support\n",
      "\n",
      "        neg       0.80      0.87      0.83       105\n",
      "        pos       0.84      0.76      0.80        95\n",
      "\n",
      "avg / total       0.82      0.81      0.81       200\n",
      "\n",
      "0.815\n"
     ]
    }
   ],
   "source": [
    "from sklearn.metrics import classification_report\n",
    "print(classification_report(Y_test, Y_pred))\n",
    "\n",
    "correct = len(np.where(np.squeeze(Y_test)==Y_pred)[0])\n",
    "print(correct/200)"
   ]
  },
  {
   "cell_type": "markdown",
   "metadata": {},
   "source": [
    "## -----------------------------------"
   ]
  },
  {
   "cell_type": "code",
   "execution_count": null,
   "metadata": {},
   "outputs": [],
   "source": [
    "from nltk.corpus import stopwords\n",
    "\n",
    "#StopWords Removal\n",
    "sw = stopwords.words('english') + list(string.punctuation)\n",
    "all_words = dataset.words()\n",
    "vocab = [x for x in all_words if x not in sw]"
   ]
  },
  {
   "cell_type": "code",
   "execution_count": 27,
   "metadata": {},
   "outputs": [
    {
     "name": "stdout",
     "output_type": "stream",
     "text": [
      "['film', 'one', 'movie', 'like', 'even', 'time', 'good', 'story', 'would', 'much']\n"
     ]
    }
   ],
   "source": [
    "#Getting Most Frequent Words\n",
    "#print(list(dict(nltk.FreqDist(vocab).most_common()).keys())[:10])\n",
    "fd = list(dict(nltk.FreqDist(vocab).most_common()).keys())[:3000]"
   ]
  }
 ],
 "metadata": {
  "kernelspec": {
   "display_name": "Python 3",
   "language": "python",
   "name": "python3"
  },
  "language_info": {
   "codemirror_mode": {
    "name": "ipython",
    "version": 3
   },
   "file_extension": ".py",
   "mimetype": "text/x-python",
   "name": "python",
   "nbconvert_exporter": "python",
   "pygments_lexer": "ipython3",
   "version": "3.7.0"
  },
  "varInspector": {
   "cols": {
    "lenName": 16,
    "lenType": 16,
    "lenVar": 40
   },
   "kernels_config": {
    "python": {
     "delete_cmd_postfix": "",
     "delete_cmd_prefix": "del ",
     "library": "var_list.py",
     "varRefreshCmd": "print(var_dic_list())"
    },
    "r": {
     "delete_cmd_postfix": ") ",
     "delete_cmd_prefix": "rm(",
     "library": "var_list.r",
     "varRefreshCmd": "cat(var_dic_list()) "
    }
   },
   "types_to_exclude": [
    "module",
    "function",
    "builtin_function_or_method",
    "instance",
    "_Feature"
   ],
   "window_display": false
  }
 },
 "nbformat": 4,
 "nbformat_minor": 2
}
