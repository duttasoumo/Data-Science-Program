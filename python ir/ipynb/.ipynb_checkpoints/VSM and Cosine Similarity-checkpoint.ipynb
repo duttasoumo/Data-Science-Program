{
 "cells": [
  {
   "cell_type": "code",
   "execution_count": 67,
   "metadata": {},
   "outputs": [
    {
     "name": "stdout",
     "output_type": "stream",
     "text": [
      "['shipment of gold damaged in a fire', 'delivery of silver arrived in a silver truck', 'shipment of gold arrived in a truck']\n",
      "[[0 1 1]\n",
      " [1 0 0]\n",
      " [0 1 0]\n",
      " [1 0 0]\n",
      " [1 0 1]\n",
      " [1 1 1]\n",
      " [1 1 1]\n",
      " [1 0 1]\n",
      " [0 2 0]\n",
      " [0 1 1]]\n",
      "['arrived', 'damaged', 'delivery', 'fire', 'gold', 'in', 'of', 'shipment', 'silver', 'truck']\n",
      "[[2]\n",
      " [1]\n",
      " [1]\n",
      " [1]\n",
      " [2]\n",
      " [3]\n",
      " [3]\n",
      " [2]\n",
      " [1]\n",
      " [2]]\n",
      "[[0.17609126]\n",
      " [0.47712125]\n",
      " [0.47712125]\n",
      " [0.47712125]\n",
      " [0.17609126]\n",
      " [0.        ]\n",
      " [0.        ]\n",
      " [0.17609126]\n",
      " [0.47712125]\n",
      " [0.17609126]]\n",
      "[[0.         0.17609126 0.17609126]\n",
      " [0.47712125 0.         0.        ]\n",
      " [0.         0.47712125 0.        ]\n",
      " [0.47712125 0.         0.        ]\n",
      " [0.17609126 0.         0.17609126]\n",
      " [0.         0.         0.        ]\n",
      " [0.         0.         0.        ]\n",
      " [0.17609126 0.         0.17609126]\n",
      " [0.         0.95424251 0.        ]\n",
      " [0.         0.17609126 0.17609126]]\n",
      "Query: [[0.         0.         0.         0.         0.17609126 0.\n",
      "  0.         0.         0.47712125 0.17609126]]\n",
      "[[0.03100813 0.48629751 0.06201626]]\n",
      "[0.71923963 1.09555453 0.35218252]\n",
      "0.5382015930270878\n",
      "[[0.08010452 0.82475142 0.32718457]]\n"
     ]
    }
   ],
   "source": [
    "from sklearn.feature_extraction.text import CountVectorizer\n",
    "import os\n",
    "import numpy as np\n",
    "import nltk\n",
    "\n",
    "#Reading Files into Corpus\n",
    "dir = 'docs\\\\ex2\\\\'\n",
    "filelist = os.listdir(dir)\n",
    "N = len(filelist)\n",
    "corpus = []\n",
    "for fn in filelist:\n",
    "    f = open(dir+fn, 'r')\n",
    "    text = f.read().lower()\n",
    "    corpus.append(text)\n",
    "print(corpus)\n",
    "\n",
    "#Term-Doc Freq Matrix\n",
    "vectorizer  = CountVectorizer()\n",
    "X = vectorizer.fit_transform(corpus)\n",
    "X = X.toarray().T\n",
    "print(X)\n",
    "\n",
    "vocab = vectorizer.get_feature_names()\n",
    "print(vocab)\n",
    "\n",
    "#IDF Computation\n",
    "df = np.reshape(np.count_nonzero(X, axis=1), (len(vocab), 1))\n",
    "print(df)\n",
    "idf = np.log10(N/df)\n",
    "print(idf)\n",
    "\n",
    "#Weight Matrix\n",
    "wm = X * idf\n",
    "print(wm)\n",
    "\n",
    "#Preparing the query\n",
    "query = ['gold silver truck']\n",
    "q = vectorizer.transform(query).toarray()\n",
    "q = q * idf.T\n",
    "print(\"Query:\", q)\n",
    "\n",
    "\n",
    "#Cosine Similarity\n",
    "q_dot_d = np.dot(q, wm)\n",
    "print(q_dot_d)\n",
    "d_norms = np.sqrt(np.sum(wm**2, axis=0))\n",
    "q_norm = np.sqrt(np.sum(q**2))\n",
    "print(norms)\n",
    "print(q_norm)\n",
    "\n",
    "cos_sim = q_dot_d/(d_norms * q_norm) \n",
    "print(cos_sim)"
   ]
  },
  {
   "cell_type": "code",
   "execution_count": 74,
   "metadata": {},
   "outputs": [
    {
     "name": "stdout",
     "output_type": "stream",
     "text": [
      "[[0.         0.50935267 0.         0.50935267 0.38737583 0.30083189\n",
      "  0.30083189 0.38737583 0.         0.        ]\n",
      " [0.29048754 0.         0.38195621 0.         0.         0.22558949\n",
      "  0.22558949 0.         0.76391242 0.29048754]\n",
      " [0.43826859 0.         0.         0.         0.43826859 0.34035465\n",
      "  0.34035465 0.43826859 0.         0.43826859]]\n"
     ]
    }
   ],
   "source": [
    "from sklearn.feature_extraction.text import TfidfTransformer\n",
    "tfidf = TfidfTransformer()\n",
    "X = vectorizer.fit_transform(corpus)\n",
    "X = tfidf.fit_transform(X)\n",
    "print(X.toarray())"
   ]
  }
 ],
 "metadata": {
  "kernelspec": {
   "display_name": "Python 3",
   "language": "python",
   "name": "python3"
  },
  "language_info": {
   "codemirror_mode": {
    "name": "ipython",
    "version": 3
   },
   "file_extension": ".py",
   "mimetype": "text/x-python",
   "name": "python",
   "nbconvert_exporter": "python",
   "pygments_lexer": "ipython3",
   "version": "3.7.0"
  },
  "varInspector": {
   "cols": {
    "lenName": 16,
    "lenType": 16,
    "lenVar": 40
   },
   "kernels_config": {
    "python": {
     "delete_cmd_postfix": "",
     "delete_cmd_prefix": "del ",
     "library": "var_list.py",
     "varRefreshCmd": "print(var_dic_list())"
    },
    "r": {
     "delete_cmd_postfix": ") ",
     "delete_cmd_prefix": "rm(",
     "library": "var_list.r",
     "varRefreshCmd": "cat(var_dic_list()) "
    }
   },
   "types_to_exclude": [
    "module",
    "function",
    "builtin_function_or_method",
    "instance",
    "_Feature"
   ],
   "window_display": false
  }
 },
 "nbformat": 4,
 "nbformat_minor": 2
}
