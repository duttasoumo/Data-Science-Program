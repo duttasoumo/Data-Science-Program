{
 "cells": [
  {
   "cell_type": "code",
   "execution_count": 19,
   "metadata": {},
   "outputs": [
    {
     "name": "stdout",
     "output_type": "stream",
     "text": [
      "File List:n ['d0.txt', 'd1.txt', 'd2.txt']\n",
      "TDM:\n",
      " [[0 1 1]\n",
      " [1 0 0]\n",
      " [0 1 0]\n",
      " [1 0 0]\n",
      " [1 0 1]\n",
      " [1 1 1]\n",
      " [1 1 1]\n",
      " [1 0 1]\n",
      " [0 2 0]\n",
      " [0 1 1]]\n",
      "Vocabulary:\n",
      " ['arrived', 'damaged', 'delivery', 'fire', 'gold', 'in', 'of', 'shipment', 'silver', 'truck']\n",
      "IID:\n",
      "arrived :  [1, 2]\n",
      "damaged :  [0]\n",
      "delivery :  [1]\n",
      "fire :  [0]\n",
      "gold :  [0, 2]\n",
      "in :  [0, 1, 2]\n",
      "of :  [0, 1, 2]\n",
      "shipment :  [0, 2]\n",
      "silver :  [1]\n",
      "truck :  [1, 2]\n"
     ]
    }
   ],
   "source": [
    "import os\n",
    "import numpy as np\n",
    "from sklearn.feature_extraction.text import CountVectorizer\n",
    "\n",
    "dirs = 'docs\\\\ex2\\\\'\n",
    "filelist = os.listdir(dirs)\n",
    "print(\"File List:n\", filelist)\n",
    "\n",
    "corpus = []\n",
    "for fn in filelist:\n",
    "    f = open(dirs + fn, 'r')\n",
    "    text = f.read()\n",
    "    corpus.append(text)\n",
    "\n",
    "V = CountVectorizer()\n",
    "tdm = V.fit_transform(corpus).toarray().T\n",
    "vocab = V.get_feature_names()\n",
    "\n",
    "print(\"TDM:\\n\", tdm)\n",
    "print(\"Vocabulary:\\n\", vocab)\n",
    "\n",
    "iid = dict()\n",
    "for (i, word) in enumerate(vocab):\n",
    "    iid[word] = list(np.where(tdm[i] > 0)[0])\n",
    "\n",
    "print(\"IID:\")\n",
    "for key in iid.keys():\n",
    "    print(key,\": \", iid[key])"
   ]
  }
 ],
 "metadata": {
  "kernelspec": {
   "display_name": "Python 3",
   "language": "python",
   "name": "python3"
  },
  "language_info": {
   "codemirror_mode": {
    "name": "ipython",
    "version": 3
   },
   "file_extension": ".py",
   "mimetype": "text/x-python",
   "name": "python",
   "nbconvert_exporter": "python",
   "pygments_lexer": "ipython3",
   "version": "3.7.0"
  },
  "varInspector": {
   "cols": {
    "lenName": 16,
    "lenType": 16,
    "lenVar": 40
   },
   "kernels_config": {
    "python": {
     "delete_cmd_postfix": "",
     "delete_cmd_prefix": "del ",
     "library": "var_list.py",
     "varRefreshCmd": "print(var_dic_list())"
    },
    "r": {
     "delete_cmd_postfix": ") ",
     "delete_cmd_prefix": "rm(",
     "library": "var_list.r",
     "varRefreshCmd": "cat(var_dic_list()) "
    }
   },
   "types_to_exclude": [
    "module",
    "function",
    "builtin_function_or_method",
    "instance",
    "_Feature"
   ],
   "window_display": false
  }
 },
 "nbformat": 4,
 "nbformat_minor": 2
}
