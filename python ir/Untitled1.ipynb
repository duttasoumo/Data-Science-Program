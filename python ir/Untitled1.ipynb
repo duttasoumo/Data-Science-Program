{
 "cells": [
  {
   "cell_type": "code",
   "execution_count": 2,
   "metadata": {},
   "outputs": [
    {
     "name": "stdout",
     "output_type": "stream",
     "text": [
      "Loading 20 newsgroups dataset for categories:\n",
      "['alt.atheism', 'talk.religion.misc', 'comp.graphics', 'sci.space']\n",
      "3387 documents\n",
      "4 categories\n",
      "Extracting features from the training dataset using a sparse vectorizer\n",
      "n_samples: 3387, n_features: 10000\n",
      "Purity: 0.004\n",
      "Completeness: 0.109\n",
      "V-measure: 0.009\n",
      "Adjusted Rand-Index: -0.001\n",
      "Silhouette Coefficient: -0.020\n",
      "Cluster 0: space god earth jehovah jesus lord nasa elohim venus launch\n",
      "Cluster 1: com article don god just people like posting space university\n",
      "Cluster 2: jpeg image gif file color images format quality version files\n",
      "Cluster 3: image graphics data pub ftp available mail software images 128\n"
     ]
    }
   ],
   "source": [
    "from sklearn.datasets import fetch_20newsgroups\n",
    "from sklearn.feature_extraction.text import CountVectorizer\n",
    "from sklearn import metrics\n",
    "\n",
    "from sklearn.cluster import KMeans;\n",
    "import numpy as np\n",
    "\n",
    "###############################################################################\n",
    "# Load some categories from the training set\n",
    "categories = [\n",
    "    'alt.atheism',\n",
    "    'talk.religion.misc',\n",
    "    'comp.graphics',\n",
    "    'sci.space',\n",
    "]\n",
    "# Uncomment the following to do the analysis on all the categories\n",
    "#categories = None\n",
    "\n",
    "print (\"Loading 20 newsgroups dataset for categories:\")\n",
    "print (categories)\n",
    "\n",
    "dataset = fetch_20newsgroups(subset='all', categories=categories,\n",
    "                             shuffle=True, random_state=42)\n",
    "\n",
    "print (\"%d documents\" % len(dataset.data))\n",
    "print (\"%d categories\" % len(dataset.target_names))\n",
    "print\n",
    "\n",
    "labels = dataset.target\n",
    "true_k = np.unique(labels).shape[0]\n",
    "\n",
    "print (\"Extracting features from the training dataset using a sparse vectorizer\")\n",
    "vectorizer = CountVectorizer(max_df=0.5, max_features=10000, stop_words='english')\n",
    "X = vectorizer.fit_transform(dataset.data)\n",
    "\n",
    "print (\"n_samples: %d, n_features: %d\" % X.shape)\n",
    "print\n",
    "\n",
    "\n",
    "###############################################################################\n",
    "# Do the actual clustering\n",
    "\n",
    "km = KMeans(n_clusters=true_k, init='k-means++', max_iter=100, n_init=1)\n",
    "\n",
    "#print (\"Clustering sparse data with %s\" % km)\n",
    "km.fit(X)\n",
    "\n",
    "\n",
    "print (\"Purity: %0.3f\" % metrics.homogeneity_score(labels, km.labels_))\n",
    "print (\"Completeness: %0.3f\" % metrics.completeness_score(labels, km.labels_))\n",
    "print (\"V-measure: %0.3f\" % metrics.v_measure_score(labels, km.labels_))\n",
    "print (\"Adjusted Rand-Index: %.3f\" % \\\n",
    "    metrics.adjusted_rand_score(labels, km.labels_))\n",
    "print (\"Silhouette Coefficient: %0.3f\" % metrics.silhouette_score(\n",
    "    X, labels, sample_size=1000))\n",
    "\n",
    "print\n",
    "order_centroids = km.cluster_centers_.argsort()[:, ::-1]\n",
    "terms = vectorizer.get_feature_names()\n",
    "for i in range(true_k):\n",
    "      print(\"Cluster %d:\" % i, end='')\n",
    "      for ind in order_centroids[i, :10]:\n",
    "            print(' %s' % terms[ind], end='')\n",
    "      print()"
   ]
  },
  {
   "cell_type": "code",
   "execution_count": null,
   "metadata": {},
   "outputs": [],
   "source": []
  }
 ],
 "metadata": {
  "kernelspec": {
   "display_name": "Python 3",
   "language": "python",
   "name": "python3"
  },
  "language_info": {
   "codemirror_mode": {
    "name": "ipython",
    "version": 3
   },
   "file_extension": ".py",
   "mimetype": "text/x-python",
   "name": "python",
   "nbconvert_exporter": "python",
   "pygments_lexer": "ipython3",
   "version": "3.7.0"
  }
 },
 "nbformat": 4,
 "nbformat_minor": 2
}
